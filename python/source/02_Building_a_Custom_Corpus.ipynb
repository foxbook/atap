{
 "cells": [
  {
   "cell_type": "markdown",
   "id": "cdf0101f-a811-4564-b560-8b2049257185",
   "metadata": {
    "tags": []
   },
   "source": [
    "# Imports"
   ]
  },
  {
   "cell_type": "code",
   "execution_count": 1,
   "id": "06f35c89-e8f3-4f51-a51b-6064366054f4",
   "metadata": {},
   "outputs": [],
   "source": [
    "import os\n",
    "import codecs\n",
    "import sqlite3\n",
    "import pathlib"
   ]
  },
  {
   "cell_type": "markdown",
   "id": "e72733a3-b8b7-4cb8-8b2d-e4a938c79638",
   "metadata": {},
   "source": [
    "# Constants"
   ]
  },
  {
   "cell_type": "code",
   "execution_count": 2,
   "id": "e716038a-db0f-4b7d-ab69-647fba313e3b",
   "metadata": {},
   "outputs": [],
   "source": [
    "PROJECT_DIR = pathlib.Path('~/project').expanduser()\n",
    "DATA_DIR = PROJECT_DIR / 'data'"
   ]
  },
  {
   "cell_type": "markdown",
   "id": "2836eb04-1c90-410d-a750-60a2cf0c30d8",
   "metadata": {},
   "source": [
    "# What Is a Corpus?"
   ]
  },
  {
   "cell_type": "markdown",
   "id": "15607fac-869b-43e7-8f27-8f33442b5f7c",
   "metadata": {},
   "source": [
    "## Domain-Specific Corpora"
   ]
  },
  {
   "cell_type": "markdown",
   "id": "156c3b29-c605-4f43-9eeb-8326dae8e9a0",
   "metadata": {},
   "source": [
    "## The Baleen Ingestion Engine"
   ]
  },
  {
   "cell_type": "markdown",
   "id": "7b731831-caec-438a-b715-c135e70e1bb4",
   "metadata": {},
   "source": [
    "# Corpus Data Management"
   ]
  },
  {
   "cell_type": "markdown",
   "id": "6c047c0a-4751-4786-8da1-57a3114d152b",
   "metadata": {},
   "source": [
    "## Corpus Disk Structure"
   ]
  },
  {
   "cell_type": "markdown",
   "id": "88f87de5-ebd8-41a5-aaf5-f0025e6ecc09",
   "metadata": {},
   "source": [
    "### The Baleen disk structure"
   ]
  },
  {
   "cell_type": "markdown",
   "id": "59985fd3-dbd5-4b00-8e15-bd6849d6ff74",
   "metadata": {},
   "source": [
    "# Corpus Readers"
   ]
  },
  {
   "cell_type": "markdown",
   "id": "6e48db6e-a812-42a7-87ab-b4a5601ea048",
   "metadata": {
    "tags": []
   },
   "source": [
    "## Streaming Data Access with NLTK"
   ]
  },
  {
   "cell_type": "code",
   "execution_count": 3,
   "id": "06afcb58-1041-4abe-ac0e-29e084574172",
   "metadata": {},
   "outputs": [],
   "source": [
    "from nltk.corpus.reader.plaintext import CategorizedPlaintextCorpusReader\n",
    "\n",
    "CORPUS_ROOT = DATA_DIR / 'galactic'\n",
    "DOC_PATTERN = r'(?!\\.)[\\w_\\s]+/[\\w\\s\\d\\-]+\\.txt'\n",
    "CAT_PATTERN = r'([\\w_\\s]+)/.*'\n",
    "\n",
    "corpus = CategorizedPlaintextCorpusReader(\n",
    "    root=CORPUS_ROOT.as_posix(),\n",
    "    fileids=DOC_PATTERN,\n",
    "    cat_pattern=CAT_PATTERN\n",
    ")"
   ]
  },
  {
   "cell_type": "code",
   "execution_count": 4,
   "id": "eb57891c-3e16-41ea-b5af-fa3bfc9a42c9",
   "metadata": {},
   "outputs": [
    {
     "name": "stdout",
     "output_type": "stream",
     "text": [
      "# Galactic Classifier\n",
      "\n",
      "Can you spot the difference in language between Star Wars and Star Trek?\n",
      "\n",
      "Scripts obtained from:\n",
      "\n",
      "- http://www.imsdb.com/alphabetical/S\n",
      "- http://www.chakoteya.net/StarTrek/9.htm\n",
      "\n"
     ]
    }
   ],
   "source": [
    "print(corpus.readme())"
   ]
  },
  {
   "cell_type": "code",
   "execution_count": 5,
   "id": "94801f96-11bc-461c-a651-1b25f647b427",
   "metadata": {},
   "outputs": [
    {
     "name": "stdout",
     "output_type": "stream",
     "text": [
      "Copyright (c) by Lucas Arts and Paramount Pictures.\n",
      "\n"
     ]
    }
   ],
   "source": [
    "print(corpus.license())"
   ]
  },
  {
   "cell_type": "code",
   "execution_count": 6,
   "id": "3634c196-5f0d-46ee-8782-49ffc7c331c1",
   "metadata": {},
   "outputs": [
    {
     "name": "stdout",
     "output_type": "stream",
     "text": [
      "@misc{ddl_galactic_2016,\n",
      "  title = {Galactic {{Corpus}}},\n",
      "  timestamp = {2016-04-19T17:16:23Z},\n",
      "  publisher = {{District Data Labs}},\n",
      "  author = {Voorhees, Will and Bengfort, Benjamin},\n",
      "  month = apr,\n",
      "  year = {2016}\n",
      "}\n",
      "\n"
     ]
    }
   ],
   "source": [
    "print(corpus.citation())"
   ]
  },
  {
   "cell_type": "code",
   "execution_count": 7,
   "id": "93c8f0bd-d307-49a9-a9b0-710131e03e3e",
   "metadata": {},
   "outputs": [
    {
     "data": {
      "text/plain": [
       "['Star Trek', 'Star Wars']"
      ]
     },
     "execution_count": 7,
     "metadata": {},
     "output_type": "execute_result"
    }
   ],
   "source": [
    "corpus.categories()"
   ]
  },
  {
   "cell_type": "code",
   "execution_count": 8,
   "id": "f200e635-a8a1-49f8-86e5-ef3b44dac57f",
   "metadata": {},
   "outputs": [
    {
     "data": {
      "text/plain": [
       "['Star Trek/Star Trek - Balance of Terror.txt',\n",
       " 'Star Trek/Star Trek - First Contact.txt',\n",
       " 'Star Trek/Star Trek - Generations.txt',\n",
       " 'Star Trek/Star Trek - Nemesis.txt',\n",
       " 'Star Trek/Star Trek - The Motion Picture.txt',\n",
       " 'Star Trek/Star Trek 2 - The Wrath of Khan.txt',\n",
       " 'Star Wars/Star Wars Episode 1.txt',\n",
       " 'Star Wars/Star Wars Episode 2.txt',\n",
       " 'Star Wars/Star Wars Episode 3.txt',\n",
       " 'Star Wars/Star Wars Episode 4.txt',\n",
       " 'Star Wars/Star Wars Episode 5.txt',\n",
       " 'Star Wars/Star Wars Episode 6.txt',\n",
       " 'Star Wars/Star Wars Episode 7.txt']"
      ]
     },
     "execution_count": 8,
     "metadata": {},
     "output_type": "execute_result"
    }
   ],
   "source": [
    "corpus.fileids()"
   ]
  },
  {
   "cell_type": "markdown",
   "id": "f68c4a09-4424-473d-b1fd-5251bade6a95",
   "metadata": {
    "tags": []
   },
   "source": [
    "## Reading an HTML Corpus"
   ]
  },
  {
   "cell_type": "code",
   "execution_count": 9,
   "id": "236c0426-0bd2-41f0-8963-25a97f2c9bd9",
   "metadata": {},
   "outputs": [],
   "source": [
    "from nltk.corpus.reader.api import CorpusReader\n",
    "from nltk.corpus.reader.api import CategorizedCorpusReader\n",
    "\n",
    "CAT_PATTERN = r'([a-z_\\s]+)/.*'\n",
    "DOC_PATTERN = r'(?!\\.)[a-z_\\s]+/[a-f0-9]+\\.json'\n",
    "TAGS = ['h1', 'h2', 'h3', 'h4', 'h5', 'h6', 'p', 'li']\n",
    "\n",
    "class HTMLCorpusReader(CategorizedCorpusReader, CorpusReader):\n",
    "    \"\"\"\n",
    "    A corpus reader for raw HTML documents to enable preprocessing.\n",
    "    \"\"\"\n",
    "\n",
    "    def __init__(self, root, fileids=DOC_PATTERN, encoding='utf8',\n",
    "                 tags=TAGS, **kwargs):\n",
    "        \"\"\"\n",
    "        Initialize the corpus reader.  Categorization arguments\n",
    "        (``cat_pattern``, ``cat_map``, and ``cat_file``) are passed to\n",
    "        the ``CategorizedCorpusReader`` constructor.  The remaining\n",
    "        arguments are passed to the ``CorpusReader`` constructor.\n",
    "        \"\"\"\n",
    "        # Add the default category pattern if not passed into the class.\n",
    "        if not any(key.startswith('cat_') for key in kwargs.keys()):\n",
    "            kwargs['cat_pattern'] = CAT_PATTERN\n",
    "\n",
    "        # Initialize the NLTK corpus reader objects\n",
    "        CategorizedCorpusReader.__init__(self, kwargs)\n",
    "        CorpusReader.__init__(self, root, fileids, encoding)\n",
    "\n",
    "        # Save the tags that we specifically want to extract.\n",
    "        self.tags = tags\n",
    "\n",
    "    def resolve(self, fileids, categories):\n",
    "        \"\"\"\n",
    "        Returns a list of fileids or categories depending on what is passed\n",
    "        to each internal corpus reader function. Implemented similarly to\n",
    "        the NLTK ``CategorizedPlaintextCorpusReader``.\n",
    "        \"\"\"\n",
    "        if fileids is not None and categories is not None:\n",
    "            raise ValueError(\"Specify fileids or categories, not both\")\n",
    "\n",
    "        if categories is not None:\n",
    "            return self.fileids(categories)\n",
    "        return fileids\n",
    "\n",
    "    def docs(self, fileids=None, categories=None):\n",
    "        \"\"\"\n",
    "        Returns the complete text of an HTML document, closing the document\n",
    "        after we are done reading it and yielding it in a memory safe fashion.\n",
    "        \"\"\"\n",
    "        # Resolve the fileids and the categories\n",
    "        fileids = self.resolve(fileids, categories)\n",
    "\n",
    "        # Create a generator, loading one document into memory at a time.\n",
    "        for path, encoding in self.abspaths(fileids, include_encoding=True):\n",
    "            with codecs.open(path, 'r', encoding=encoding) as f:\n",
    "                yield f.read()\n",
    "\n",
    "    def sizes(self, fileids=None, categories=None):\n",
    "        \"\"\"\n",
    "        Returns a list of tuples, the fileid and size on disk of the file.\n",
    "        This function is used to detect oddly large files in the corpus.\n",
    "        \"\"\"\n",
    "        # Resolve the fileids and the categories\n",
    "        fileids = self.resolve(fileids, categories)\n",
    "\n",
    "        # Create a generator, getting every path and computing filesize\n",
    "        for path in self.abspaths(fileids):\n",
    "            yield os.path.getsize(path)"
   ]
  },
  {
   "cell_type": "code",
   "execution_count": 10,
   "id": "7d24bc70-396c-4374-bfb0-76d0c64d5900",
   "metadata": {},
   "outputs": [],
   "source": [
    "CORPUS_ROOT = DATA_DIR / 'galactic'\n",
    "DOC_PATTERN = r'(?!\\.)[\\w_\\s]+/[\\w\\s\\d\\-]+\\.txt'\n",
    "CAT_PATTERN = r'([\\w_\\s]+)/.*'\n",
    "\n",
    "corpus = HTMLCorpusReader(\n",
    "    root=CORPUS_ROOT.as_posix(),\n",
    "    fileids=DOC_PATTERN,\n",
    "    cat_pattern=CAT_PATTERN\n",
    ")"
   ]
  },
  {
   "cell_type": "code",
   "execution_count": 11,
   "id": "1f1cf5b7-57b3-44d0-8f2c-1634273a30b5",
   "metadata": {},
   "outputs": [
    {
     "data": {
      "text/plain": [
       "['Star Trek/Star Trek - Balance of Terror.txt',\n",
       " 'Star Trek/Star Trek - First Contact.txt',\n",
       " 'Star Trek/Star Trek - Generations.txt',\n",
       " 'Star Trek/Star Trek - Nemesis.txt',\n",
       " 'Star Trek/Star Trek - The Motion Picture.txt',\n",
       " 'Star Trek/Star Trek 2 - The Wrath of Khan.txt']"
      ]
     },
     "execution_count": 11,
     "metadata": {},
     "output_type": "execute_result"
    }
   ],
   "source": [
    "corpus.resolve(None, categories=['Star Trek'])"
   ]
  },
  {
   "cell_type": "code",
   "execution_count": 12,
   "id": "5cedb77a-3ee5-44db-b458-d200e21a056d",
   "metadata": {},
   "outputs": [
    {
     "data": {
      "text/plain": [
       "['', '', '', '', '', '', '']"
      ]
     },
     "execution_count": 12,
     "metadata": {},
     "output_type": "execute_result"
    }
   ],
   "source": [
    "list(corpus.docs(categories=['Star Wars']))"
   ]
  },
  {
   "cell_type": "code",
   "execution_count": 13,
   "id": "da9d029c-d7aa-477f-99c2-587f46b871b8",
   "metadata": {},
   "outputs": [
    {
     "data": {
      "text/plain": [
       "[0, 0, 0, 0, 0, 0, 0]"
      ]
     },
     "execution_count": 13,
     "metadata": {},
     "output_type": "execute_result"
    }
   ],
   "source": [
    "list(corpus.sizes(categories=['Star Wars']))"
   ]
  },
  {
   "cell_type": "markdown",
   "id": "9e3fb96b-8d83-443d-97fd-0ef783ef912f",
   "metadata": {
    "tags": []
   },
   "source": [
    "## Reading a Corpus from a Database"
   ]
  },
  {
   "cell_type": "code",
   "execution_count": 14,
   "id": "256f2693-e215-40e1-acf9-b74dd42df3c9",
   "metadata": {},
   "outputs": [],
   "source": [
    "class SqliteCorpusReader(object):\n",
    "\n",
    "    def __init__(self, path):\n",
    "        self._cur = sqlite3.connect(path).cursor()\n",
    "\n",
    "    def scores(self):\n",
    "        \"\"\"\n",
    "        Returns the review score\n",
    "        \"\"\"\n",
    "        self._cur.execute(\"SELECT score FROM reviews\")\n",
    "        for score in iter(self._cur.fetchone, None):\n",
    "            yield score\n",
    "\n",
    "    def texts(self):\n",
    "        \"\"\"\n",
    "        Returns the full review texts\n",
    "        \"\"\"\n",
    "        self._cur.execute(\"SELECT content FROM content\")\n",
    "        for text in iter(self._cur.fetchone, None):\n",
    "            yield text\n",
    "\n",
    "    def ids(self):\n",
    "        \"\"\"\n",
    "        Returns the review ids\n",
    "        \"\"\"\n",
    "        self._cur.execute(\"SELECT reviewid FROM content\")\n",
    "        for idx in iter(self._cur.fetchone, None):\n",
    "            yield idx"
   ]
  }
 ],
 "metadata": {
  "kernelspec": {
   "display_name": "Python 3 (ipykernel)",
   "language": "python",
   "name": "python3"
  },
  "language_info": {
   "codemirror_mode": {
    "name": "ipython",
    "version": 3
   },
   "file_extension": ".py",
   "mimetype": "text/x-python",
   "name": "python",
   "nbconvert_exporter": "python",
   "pygments_lexer": "ipython3",
   "version": "3.8.11"
  }
 },
 "nbformat": 4,
 "nbformat_minor": 5
}
