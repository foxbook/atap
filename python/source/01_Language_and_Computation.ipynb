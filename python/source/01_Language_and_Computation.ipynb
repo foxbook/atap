{
 "cells": [
  {
   "cell_type": "markdown",
   "id": "4110a973-fba0-4e77-acfd-99a6676c184a",
   "metadata": {
    "tags": []
   },
   "source": [
    "# Imports"
   ]
  },
  {
   "cell_type": "code",
   "execution_count": 1,
   "id": "ced033b0-d342-4ae8-a5bd-8db26be90190",
   "metadata": {},
   "outputs": [],
   "source": [
    "import pathlib\n",
    "import collections"
   ]
  },
  {
   "cell_type": "code",
   "execution_count": 2,
   "id": "2b07fecf-0cf2-4fff-a1b6-35f4237e56d7",
   "metadata": {},
   "outputs": [],
   "source": [
    "import nltk"
   ]
  },
  {
   "cell_type": "markdown",
   "id": "0e7f6210-7ed1-4ac3-b2b4-4f51f79b6a53",
   "metadata": {},
   "source": [
    "# Constants"
   ]
  },
  {
   "cell_type": "code",
   "execution_count": 3,
   "id": "68fe5246-a488-4335-87e8-c07f2133cf3c",
   "metadata": {},
   "outputs": [],
   "source": [
    "PROJECT_DIR = pathlib.Path('~/project').expanduser()\n",
    "DATA_DIR = PROJECT_DIR / 'data'"
   ]
  },
  {
   "cell_type": "markdown",
   "id": "1c42348b-b73f-4181-ab57-745a99e1373b",
   "metadata": {},
   "source": [
    "# The Data Science Paradigm"
   ]
  },
  {
   "cell_type": "markdown",
   "id": "d53bb714-6fc5-44cf-8d95-75b9eff7e313",
   "metadata": {},
   "source": [
    "# Language-Aware Data Products"
   ]
  },
  {
   "cell_type": "markdown",
   "id": "f10a44a9-2208-4c03-9901-44b056ba16a6",
   "metadata": {},
   "source": [
    "## The Data Product Pipeline"
   ]
  },
  {
   "cell_type": "markdown",
   "id": "250eca2b-008d-4830-95c6-325d71d061d4",
   "metadata": {},
   "source": [
    "### The model selection triple"
   ]
  },
  {
   "cell_type": "markdown",
   "id": "2a82a572-1b6e-4ac0-a2e9-3809900833bb",
   "metadata": {},
   "source": [
    "# Language as Data"
   ]
  },
  {
   "cell_type": "markdown",
   "id": "529eac00-6733-4cb4-82a3-a8d457b45a7f",
   "metadata": {
    "tags": []
   },
   "source": [
    "## A Computational Model of Language"
   ]
  },
  {
   "cell_type": "markdown",
   "id": "f0624c1b-b00f-4a87-8034-ca124c85e7ae",
   "metadata": {},
   "source": [
    "## Language Features"
   ]
  },
  {
   "cell_type": "code",
   "execution_count": 4,
   "id": "601064bf-ceb5-4247-9003-465781afaafd",
   "metadata": {},
   "outputs": [],
   "source": [
    "MALE = 'male'\n",
    "FEMALE = 'female'\n",
    "UNKNOWN = 'unknown'\n",
    "BOTH = 'both'"
   ]
  },
  {
   "cell_type": "code",
   "execution_count": 5,
   "id": "34a08708-dbcc-4948-a8f7-faf6896c17da",
   "metadata": {},
   "outputs": [],
   "source": [
    "MALE_WORDS = {\n",
    "    'guy', 'spokesman', 'chairman', \"men's\", 'men', 'him', \"he's\", 'his',\n",
    "    'boy', 'boyfriend', 'boyfriends', 'boys', 'brother', 'brothers', 'dad',\n",
    "    'dads', 'dude', 'father', 'fathers', 'fiance', 'gentleman', 'gentlemen',\n",
    "    'god', 'grandfather', 'grandpa', 'grandson', 'groom', 'he', 'himself',\n",
    "    'husband', 'husbands', 'king', 'male', 'man', 'mr', 'nephew', 'nephews',\n",
    "    'priest', 'prince', 'son', 'sons', 'uncle', 'uncles', 'waiter', 'widower',\n",
    "    'widowers'\n",
    "}"
   ]
  },
  {
   "cell_type": "code",
   "execution_count": 6,
   "id": "b093cbd9-ab25-44e5-ade2-461df4f22ab4",
   "metadata": {},
   "outputs": [],
   "source": [
    "FEMALE_WORDS = {\n",
    "    'heroine', 'spokeswoman', 'chairwoman', \"women's\", 'actress', 'women',\n",
    "    \"she's\", 'her', 'aunt', 'aunts', 'bride', 'daughter', 'daughters', 'female',\n",
    "    'fiancee', 'girl', 'girlfriend', 'girlfriends', 'girls', 'goddess',\n",
    "    'granddaughter', 'grandma', 'grandmother', 'herself', 'ladies', 'lady',\n",
    "    'mom', 'moms', 'mother', 'mothers', 'mrs', 'ms', 'niece', 'nieces',\n",
    "    'priestess', 'princess', 'queens', 'she', 'sister', 'sisters', 'waitress',\n",
    "    'widow', 'widows', 'wife', 'wives', 'woman'\n",
    "}"
   ]
  },
  {
   "cell_type": "code",
   "execution_count": 7,
   "id": "b0931602-729c-4f1d-a0fb-4839e974b675",
   "metadata": {},
   "outputs": [],
   "source": [
    "def genderize(words):\n",
    "\n",
    "    mwlen = len(MALE_WORDS.intersection(words))\n",
    "    fwlen = len(FEMALE_WORDS.intersection(words))\n",
    "\n",
    "    if mwlen > 0 and fwlen == 0:\n",
    "        return MALE\n",
    "    elif mwlen == 0 and fwlen > 0:\n",
    "        return FEMALE\n",
    "    elif mwlen > 0 and fwlen > 0:\n",
    "        return BOTH\n",
    "    else:\n",
    "        return UNKNOWN"
   ]
  },
  {
   "cell_type": "code",
   "execution_count": 8,
   "id": "23831eb8-eb30-4a9f-ba35-71bb73ef8c8d",
   "metadata": {},
   "outputs": [],
   "source": [
    "def count_gender(sentences):\n",
    "\n",
    "    sents = collections.Counter()\n",
    "    words = collections.Counter()\n",
    "\n",
    "    for sentence in sentences:\n",
    "        gender = genderize(sentence)\n",
    "        sents[gender] += 1\n",
    "        words[gender] += len(sentence)\n",
    "\n",
    "    return sents, words"
   ]
  },
  {
   "cell_type": "code",
   "execution_count": 9,
   "id": "0267cd39-1b00-41f9-9c6a-608341a0b360",
   "metadata": {},
   "outputs": [],
   "source": [
    "def parse_gender(text):\n",
    "\n",
    "    sentences = [\n",
    "        [word.lower() for word in nltk.word_tokenize(sentence)]\n",
    "        for sentence in nltk.sent_tokenize(text)\n",
    "    ]\n",
    "\n",
    "    sents, words = count_gender(sentences)\n",
    "    total = sum(words.values())\n",
    "\n",
    "    for gender, count in words.items():\n",
    "        pcent = (count / total) * 100\n",
    "        nsents = sents[gender]\n",
    "\n",
    "        print(\n",
    "            \"{:0.3f}% {} ({} sentences)\".format(pcent, gender, nsents)\n",
    "        )"
   ]
  },
  {
   "cell_type": "code",
   "execution_count": 10,
   "id": "943b48ef-b3ab-410c-be35-a637441a925a",
   "metadata": {},
   "outputs": [
    {
     "name": "stdout",
     "output_type": "stream",
     "text": [
      "39.269% unknown (48 sentences)\n",
      "52.994% female (38 sentences)\n",
      "4.393% both (2 sentences)\n",
      "3.344% male (3 sentences)\n"
     ]
    }
   ],
   "source": [
    "parse_gender((DATA_DIR / 'ballet.txt').read_text())"
   ]
  },
  {
   "cell_type": "markdown",
   "id": "c32864b2-7098-45fb-bd0c-9dd431e83ccb",
   "metadata": {},
   "source": [
    "## Contextual Features"
   ]
  },
  {
   "cell_type": "markdown",
   "id": "84aa9c6c-410a-4484-b6ec-9e63d7066ed7",
   "metadata": {},
   "source": [
    "## Structural Features"
   ]
  }
 ],
 "metadata": {
  "kernelspec": {
   "display_name": "Python 3 (ipykernel)",
   "language": "python",
   "name": "python3"
  },
  "language_info": {
   "codemirror_mode": {
    "name": "ipython",
    "version": 3
   },
   "file_extension": ".py",
   "mimetype": "text/x-python",
   "name": "python",
   "nbconvert_exporter": "python",
   "pygments_lexer": "ipython3",
   "version": "3.8.11"
  },
  "toc-autonumbering": false
 },
 "nbformat": 4,
 "nbformat_minor": 5
}
